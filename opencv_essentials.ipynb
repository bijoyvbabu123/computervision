{
 "cells": [
  {
   "cell_type": "markdown",
   "id": "59f8b14e-4f7c-47c8-b532-4ae4b2f15350",
   "metadata": {},
   "source": [
    "<h1>Trying all the required features and options in opencv</h1>"
   ]
  },
  {
   "cell_type": "markdown",
   "id": "8969e1b9-2e87-4207-b8a8-7879852b7a39",
   "metadata": {},
   "source": [
    "<h2>To Try and see : </h2>\n",
    "<ul>\n",
    "    <li>drawing lines and markers in live feed</li>\n",
    "    <li>cordinates idea</li>\n",
    "    <li>marking cordinates wrt other cordinates</li>\n",
    "    <li>zooming and video frame size and its significance in the project</li>\n",
    "    <li>...</li>\n",
    "</ul>"
   ]
  },
  {
   "cell_type": "code",
   "execution_count": 3,
   "id": "311d417c-bf4d-4a68-ae63-e1f1960ec37e",
   "metadata": {},
   "outputs": [],
   "source": [
    "import cv2"
   ]
  },
  {
   "cell_type": "code",
   "execution_count": 6,
   "id": "f562c560-ad33-4429-b08a-91b2e94e1ac1",
   "metadata": {},
   "outputs": [],
   "source": [
    "# live feed from the camera\n",
    "capture = cv2.VideoCapture(0)\n",
    "\n",
    "while capture.isOpened():\n",
    "    success, frame = capture.read()\n",
    "\n",
    "    if not success:\n",
    "        print(\"Ignoring empty camera\")\n",
    "        continue\n",
    "\n",
    "    cv2.imshow(\"live feed from camera\",frame)     # window title and the live feed\n",
    "\n",
    "    if cv2.waitKey(5) & 0xFF == 27:   # press ESC to quit\n",
    "        break\n",
    "\n",
    "capture.release()\n",
    "cv2.destroyAllWindows()   # else the window will not get closed"
   ]
  },
  {
   "cell_type": "code",
   "execution_count": 15,
   "id": "cb66cdd8-e89f-4bb9-b834-d8f6e8e6f497",
   "metadata": {},
   "outputs": [
    {
     "data": {
      "text/plain": [
       "(480, 640, 3)"
      ]
     },
     "execution_count": 15,
     "metadata": {},
     "output_type": "execute_result"
    }
   ],
   "source": [
    "frame.shape"
   ]
  },
  {
   "cell_type": "code",
   "execution_count": 3,
   "id": "ab78734a-39c3-4ac9-a570-2e48893fdbc3",
   "metadata": {},
   "outputs": [
    {
     "name": "stdout",
     "output_type": "stream",
     "text": [
      "width :  198\n",
      "height :  173\n"
     ]
    }
   ],
   "source": [
    "# show some random coordinates on the live feed\n",
    "import random\n",
    "# Generate random coordinates within frame dimensions\n",
    "x = random.randint(0, 639)    # width max 640\n",
    "y = random.randint(0, 479)    # height max 480\n",
    "print(\"width : \", x)\n",
    "print(\"height : \", y)\n",
    "\n",
    "\n",
    "capture = cv2.VideoCapture(0)\n",
    "\n",
    "while capture.isOpened():\n",
    "    success, frame = capture.read()\n",
    "\n",
    "    if not success:\n",
    "        print(\"Ignoring empty camera\")\n",
    "        continue\n",
    "\n",
    "    # Draw a circle at the random coordinate\n",
    "    cv2.circle(frame, (x, y), 5, (0, 255, 0), 2)\n",
    "\n",
    "    cv2.imshow(\"live feed from camera\",frame)     # window title and the live feed\n",
    "\n",
    "    if cv2.waitKey(5) & 0xFF == ord('q'):   # press q to quit\n",
    "        break\n",
    "\n",
    "capture.release()\n",
    "cv2.destroyAllWindows()   # else the window will not get closed"
   ]
  },
  {
   "cell_type": "code",
   "execution_count": 4,
   "id": "0d3f6f67",
   "metadata": {},
   "outputs": [],
   "source": [
    "# show live feed with a horizontal line in the middle of the frame\n",
    "capture = cv2.VideoCapture(0)\n",
    "\n",
    "while capture.isOpened():\n",
    "    success, frame = capture.read()\n",
    "\n",
    "    if not success:\n",
    "        print(\"Ignoring empty camera\")\n",
    "        continue\n",
    "\n",
    "    # Draw a horizontal line in the middle of the frame\n",
    "    cv2.line(frame, (0, 240), (640, 240), (0, 0, 255), 2)\n",
    "\n",
    "    cv2.imshow(\"live feed from camera\",frame)     # window title and the live feed\n",
    "\n",
    "    if cv2.waitKey(5) & 0xFF == ord('q'):   # press q to quit\n",
    "        break\n",
    "\n",
    "capture.release()\n",
    "cv2.destroyAllWindows()   # else the window will not get closed"
   ]
  }
 ],
 "metadata": {
  "kernelspec": {
   "display_name": "Python 3 (ipykernel)",
   "language": "python",
   "name": "python3"
  },
  "language_info": {
   "codemirror_mode": {
    "name": "ipython",
    "version": 3
   },
   "file_extension": ".py",
   "mimetype": "text/x-python",
   "name": "python",
   "nbconvert_exporter": "python",
   "pygments_lexer": "ipython3",
   "version": "3.10.12"
  }
 },
 "nbformat": 4,
 "nbformat_minor": 5
}
